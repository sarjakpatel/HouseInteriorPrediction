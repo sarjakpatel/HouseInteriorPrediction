{
  "cells": [
    {
      "cell_type": "markdown",
      "metadata": {
        "id": "9WITnd8nXfH1"
      },
      "source": [
        "## Installations"
      ]
    },
    {
      "cell_type": "code",
      "source": [
        "from google.colab import drive\n",
        "drive.mount('/content/drive')"
      ],
      "metadata": {
        "colab": {
          "base_uri": "https://localhost:8080/"
        },
        "id": "ntrZz1m4Xrm6",
        "outputId": "ab3fe0a5-08a3-4a52-f4e2-a8116c5bd195"
      },
      "execution_count": null,
      "outputs": [
        {
          "output_type": "stream",
          "name": "stdout",
          "text": [
            "Mounted at /content/drive\n"
          ]
        }
      ]
    },
    {
      "cell_type": "code",
      "execution_count": null,
      "metadata": {
        "id": "MvzGX24TXfH4"
      },
      "outputs": [],
      "source": [
        "from tensorflow.keras.preprocessing.image import ImageDataGenerator\n",
        "from tensorflow.keras.applications import VGG16, ResNet50, EfficientNetB0\n",
        "from tensorflow.keras.layers import Dropout\n",
        "from tensorflow.keras.layers import Flatten, BatchNormalization\n",
        "from tensorflow.keras.layers import Dense\n",
        "from tensorflow.keras.layers import Input\n",
        "from tensorflow.keras.models import Model\n",
        "from tensorflow.keras.optimizers import SGD, Adam\n",
        "from tensorflow.keras.callbacks import EarlyStopping, ModelCheckpoint\n",
        "from sklearn.metrics import classification_report, confusion_matrix\n",
        "from sklearn.model_selection import train_test_split\n",
        "from keras.models import load_model\n",
        "from imutils import paths\n",
        "from PIL import Image\n",
        "from tqdm import tqdm\n",
        "import matplotlib.pyplot as plt\n",
        "import numpy as np\n",
        "import tensorflow as tf\n",
        "import seaborn as sns\n",
        "import shutil\n",
        "import os"
      ]
    },
    {
      "cell_type": "markdown",
      "metadata": {
        "id": "7Ob5y9nQXfH6"
      },
      "source": [
        "## Helper Variables & Functions"
      ]
    },
    {
      "cell_type": "code",
      "execution_count": null,
      "metadata": {
        "id": "ioYi2pEHXfH6"
      },
      "outputs": [],
      "source": [
        "ORIG_INPUT_DATASET = \"/content/drive/MyDrive/House Interior Prediction/House_Room_Dataset/Bedroom\"\n",
        "\n",
        "TRAIN = \"training\"\n",
        "TEST = \"evaluation\"\n",
        "VAL = \"validation\"\n",
        "\n",
        "BASE_PATH = \"/content/drive/MyDrive/House Interior Prediction/dataset\"\n",
        "BATCH_SIZE = 32\n",
        "CLASSES = [\"Modern\", \"Old\"] # \"Neutral\", "
      ]
    },
    {
      "cell_type": "code",
      "execution_count": null,
      "metadata": {
        "id": "56gqZpeLXfH7"
      },
      "outputs": [],
      "source": [
        "def plot_hist(hist, metric):\n",
        "    if metric == 'auc_3':\n",
        "        plt.plot(hist.history[\"auc_3\"])\n",
        "        plt.plot(hist.history[\"val_auc_3\"])\n",
        "    else:\n",
        "        plt.plot(hist.history[\"loss\"])\n",
        "        plt.plot(hist.history[\"val_loss\"])\n",
        "    plt.style.use(\"ggplot\")\n",
        "    plt.title(\"model {}\".format(metric))\n",
        "    plt.ylabel(\"{}\".format(metric))\n",
        "    plt.xlabel(\"epoch\")\n",
        "    plt.legend([\"train\", \"validation\"], loc=\"upper left\")\n",
        "    plt.show()"
      ]
    },
    {
      "cell_type": "markdown",
      "metadata": {
        "id": "DE8xW8epXfH8"
      },
      "source": [
        "## Loading labels"
      ]
    },
    {
      "cell_type": "code",
      "execution_count": null,
      "metadata": {
        "colab": {
          "base_uri": "https://localhost:8080/"
        },
        "id": "EoX8iPyJXfH9",
        "outputId": "40a0248e-8dd2-447c-9346-b443e195a00b"
      },
      "outputs": [
        {
          "output_type": "execute_result",
          "data": {
            "text/plain": [
              "451"
            ]
          },
          "metadata": {},
          "execution_count": 5
        }
      ],
      "source": [
        "with open(\"/content/drive/MyDrive/House Interior Prediction/labels.txt\", 'r') as f:\n",
        "    manual_labels = f.read()\n",
        "    \n",
        "labels = [i for i in manual_labels]\n",
        "len(labels)"
      ]
    },
    {
      "cell_type": "code",
      "execution_count": null,
      "metadata": {
        "colab": {
          "base_uri": "https://localhost:8080/"
        },
        "id": "Ndhmki8TXfH-",
        "outputId": "f8309f4b-1f7b-48f2-8076-b5208c276b8c"
      },
      "outputs": [
        {
          "output_type": "stream",
          "name": "stdout",
          "text": [
            "dict_keys(['O', 'M'])\n",
            "dict_values([271, 180])\n"
          ]
        }
      ],
      "source": [
        "from collections import Counter\n",
        "\n",
        "print(Counter(labels).keys()) # equals to list(set(words))\n",
        "print(Counter(labels).values()) # counts the elements' frequency"
      ]
    },
    {
      "cell_type": "markdown",
      "metadata": {
        "id": "c5m4YLDkXfH-"
      },
      "source": [
        "This seems to indicate class imbalance. Accuracy won't be a good metric! Instead we'll use AUC."
      ]
    },
    {
      "cell_type": "markdown",
      "metadata": {
        "id": "o2vaK5OjXfH-"
      },
      "source": [
        "## Train-Test-Val Split"
      ]
    },
    {
      "cell_type": "code",
      "execution_count": null,
      "metadata": {
        "id": "75HyiVDjXfH_"
      },
      "outputs": [],
      "source": [
        "# Important to sort the files in the order in which we see them in folder\n",
        "files = os.listdir(ORIG_INPUT_DATASET)\n",
        "files.sort(key=lambda f: int(f.split('_')[1].split('.')[0]))"
      ]
    },
    {
      "cell_type": "code",
      "execution_count": null,
      "metadata": {
        "id": "Um-EZeszXfH_"
      },
      "outputs": [],
      "source": [
        "# splitting files into train and test sets\n",
        "trainX, testX, trainY, testY =  train_test_split(files[:len(labels)], labels, stratify=labels, train_size=0.90)"
      ]
    },
    {
      "cell_type": "code",
      "execution_count": null,
      "metadata": {
        "id": "16s8L6XGXfH_"
      },
      "outputs": [],
      "source": [
        "# further splitting of train set into train and val sets\n",
        "trainX, valX, trainY, valY = train_test_split(trainX, trainY, stratify=trainY, train_size=0.85)"
      ]
    },
    {
      "cell_type": "code",
      "execution_count": null,
      "metadata": {
        "colab": {
          "base_uri": "https://localhost:8080/"
        },
        "id": "Y7U3CsV2XfIA",
        "outputId": "e018955a-08cd-468a-f228-cd1af5903478"
      },
      "outputs": [
        {
          "output_type": "execute_result",
          "data": {
            "text/plain": [
              "(344, 344, 61, 61, 46, 46)"
            ]
          },
          "metadata": {},
          "execution_count": 10
        }
      ],
      "source": [
        "len(trainX), len(trainY), len(valX), len(valY),  len(testX), len(testY)"
      ]
    },
    {
      "cell_type": "markdown",
      "metadata": {
        "id": "MPGFEB0OXfIA"
      },
      "source": [
        "## Directory structure for batch processing"
      ]
    },
    {
      "cell_type": "code",
      "execution_count": null,
      "metadata": {
        "colab": {
          "base_uri": "https://localhost:8080/"
        },
        "id": "18kTge1UXfIA",
        "outputId": "1e58a39e-1d75-4658-ec2f-4d1acb26cb51"
      },
      "outputs": [
        {
          "output_type": "stream",
          "name": "stderr",
          "text": [
            "Iterating over images in sub folder: 100%|██████████| 344/344 [00:13<00:00, 26.07it/s] \n",
            "Iterating over images in sub folder: 100%|██████████| 46/46 [00:00<00:00, 148.99it/s]\n",
            "Iterating over images in sub folder: 100%|██████████| 61/61 [00:00<00:00, 107.94it/s]\n"
          ]
        }
      ],
      "source": [
        "# Building the dataset properly - \n",
        "splits = [(trainX, trainY), (testX, testY), (valX, valY)]\n",
        "dirnames = ['training', 'evaluation', 'validation']\n",
        "\n",
        "for i, (data,label) in enumerate(splits):\n",
        "    outside_dir=dirnames[i]\n",
        "\n",
        "    for j in tqdm(range(0, len(label)), desc=\"Iterating over images in sub folder\"):\n",
        "        dir = label[j]\n",
        "        \n",
        "        # construct the path to the sub-directory\n",
        "        dirPath = os.path.join(BASE_PATH, outside_dir, dir)\n",
        "        \n",
        "        # if the output directory does not exist, create it\n",
        "        if not os.path.exists(dirPath):\n",
        "            os.makedirs(dirPath)\n",
        "            \n",
        "            \n",
        "        # copy the img to this new directory\n",
        "        src_img = os.path.join(ORIG_INPUT_DATASET, data[j])\n",
        "        shutil.copy(src_img, dirPath)"
      ]
    },
    {
      "cell_type": "code",
      "execution_count": null,
      "metadata": {
        "id": "2-glnECMXfIB"
      },
      "outputs": [],
      "source": [
        "# derive the paths to the training, validation, and testing directories\n",
        "trainPath = os.path.sep.join([BASE_PATH, TRAIN])\n",
        "valPath = os.path.sep.join([BASE_PATH, VAL])\n",
        "testPath = os.path.sep.join([BASE_PATH, TEST])"
      ]
    },
    {
      "cell_type": "code",
      "execution_count": null,
      "metadata": {
        "id": "zzDq-i8eXfIB"
      },
      "outputs": [],
      "source": [
        "# determine the total number of image paths in training, validation,\n",
        "# and testing directories\n",
        "totalTrain = len(list(paths.list_images(trainPath)))\n",
        "totalVal = len(list(paths.list_images(valPath)))\n",
        "totalTest = len(list(paths.list_images(testPath)))"
      ]
    },
    {
      "cell_type": "code",
      "execution_count": null,
      "metadata": {
        "colab": {
          "base_uri": "https://localhost:8080/"
        },
        "id": "2hLaiDwOXfIB",
        "outputId": "94d4f1e6-c0c4-4b2b-f5d9-2fa36ef2f2a9"
      },
      "outputs": [
        {
          "output_type": "stream",
          "name": "stdout",
          "text": [
            "344 46 61\n"
          ]
        }
      ],
      "source": [
        "print(totalTrain, totalTest, totalVal)"
      ]
    },
    {
      "cell_type": "markdown",
      "metadata": {
        "id": "-M_Ob_yLXfIC"
      },
      "source": [
        "## Data Augmentation"
      ]
    },
    {
      "cell_type": "code",
      "execution_count": null,
      "metadata": {
        "id": "cDD-tVjZXfIC"
      },
      "outputs": [],
      "source": [
        "# initialize the training data augmentation object\n",
        "trainAug = ImageDataGenerator(\n",
        "\trotation_range=90,\n",
        "\tzoom_range=[0.5, 1.0],\n",
        "\twidth_shift_range=0.3,\n",
        "\theight_shift_range=0.25,\n",
        "\tshear_range=0.15,\n",
        "\thorizontal_flip=True,\n",
        "\tfill_mode=\"nearest\",\n",
        " \tbrightness_range=[0.2, 1.0]\n",
        "   )"
      ]
    },
    {
      "cell_type": "code",
      "execution_count": null,
      "metadata": {
        "id": "IkZnXeBDXfIC"
      },
      "outputs": [],
      "source": [
        "# Default for all the above parameters is 0, \n",
        "# meaning we are applying no augmentation to val set\n",
        "# which is exactly what we need because val set should be treated like test set.\n",
        "valAug = ImageDataGenerator()"
      ]
    },
    {
      "cell_type": "code",
      "execution_count": null,
      "metadata": {
        "id": "dmyDp5IGXfIC"
      },
      "outputs": [],
      "source": [
        "testAug = ImageDataGenerator()"
      ]
    },
    {
      "cell_type": "markdown",
      "metadata": {
        "id": "S-vcQQlOXfIC"
      },
      "source": [
        "## Data Generators"
      ]
    },
    {
      "cell_type": "code",
      "execution_count": null,
      "metadata": {
        "colab": {
          "base_uri": "https://localhost:8080/"
        },
        "id": "abhMGXPWXfIC",
        "outputId": "4932b839-f6a6-41b9-cd5b-5f021c3ed5a4"
      },
      "outputs": [
        {
          "output_type": "stream",
          "name": "stdout",
          "text": [
            "Found 344 images belonging to 2 classes.\n"
          ]
        }
      ],
      "source": [
        "# Create batches whilst creating augmented images on the fly\n",
        "\n",
        "trainGen = trainAug.flow_from_directory(\n",
        "    directory=trainPath,\n",
        "    target_size=(224,224),\n",
        "    save_to_dir='/content/drive/MyDrive/House Interior Prediction/dataset/augmented/train',\n",
        "    save_prefix='train',\n",
        "    shuffle=True # data will be shuffled between epochs\n",
        ")"
      ]
    },
    {
      "cell_type": "code",
      "execution_count": null,
      "metadata": {
        "colab": {
          "base_uri": "https://localhost:8080/"
        },
        "id": "58Jbb2M9XfID",
        "outputId": "78317e77-9c63-4faf-869e-e509c113f832"
      },
      "outputs": [
        {
          "output_type": "stream",
          "name": "stdout",
          "text": [
            "Found 61 images belonging to 2 classes.\n"
          ]
        }
      ],
      "source": [
        "valGen = valAug.flow_from_directory(\n",
        "    directory=valPath,\n",
        "    target_size=(224,224),\n",
        "    shuffle=True\n",
        ")"
      ]
    },
    {
      "cell_type": "code",
      "execution_count": null,
      "metadata": {
        "colab": {
          "base_uri": "https://localhost:8080/"
        },
        "id": "HozUC5XXXfID",
        "outputId": "fb5c8964-d1b1-4d38-e00e-245fc32dfd21"
      },
      "outputs": [
        {
          "output_type": "stream",
          "name": "stdout",
          "text": [
            "Found 46 images belonging to 2 classes.\n"
          ]
        }
      ],
      "source": [
        "testGen = testAug.flow_from_directory(\n",
        "    directory=testPath,\n",
        "    target_size=(224,224),\n",
        "    shuffle=False\n",
        ")"
      ]
    },
    {
      "cell_type": "markdown",
      "metadata": {
        "id": "YiVT4tiHXfID"
      },
      "source": [
        "## Transfer Learning"
      ]
    },
    {
      "cell_type": "markdown",
      "metadata": {
        "id": "7n_NjKJ4XfID"
      },
      "source": [
        "### Feature Extraction Step"
      ]
    },
    {
      "cell_type": "code",
      "execution_count": null,
      "metadata": {
        "id": "xPggtWu_XfID"
      },
      "outputs": [],
      "source": [
        "def build_model():\n",
        "    # Building the original base EfficientNet-0 model\n",
        "    baseModel = EfficientNetB0(weights=\"imagenet\", \n",
        "                  include_top=False, # make sure top layer i.e. head is not included\n",
        "                  input_tensor=Input(shape=(224, 224, 3)),\n",
        "                  pooling=\"avg\"\n",
        "                  )\n",
        "    \n",
        "    # freeze the weights\n",
        "    for layer in baseModel.layers:\n",
        "        layer.trainable = False\n",
        "    \n",
        "    # training a new classifier on top\n",
        "    x = baseModel.output\n",
        "    Layer_1 = BatchNormalization()(x)\n",
        "    Layer_2 = Dropout(0.5)(Layer_1)\n",
        "    output_layer = Dense(len(CLASSES), activation=\"softmax\")(Layer_2)\n",
        "    \n",
        "    model = Model(inputs = baseModel.input, outputs = output_layer)\n",
        "    \n",
        "    # compile\n",
        "    opt = Adam(learning_rate=1e-3)\n",
        "    model.compile(optimizer=opt, \n",
        "                loss='binary_crossentropy', \n",
        "                metrics=[tf.keras.metrics.AUC()])\n",
        "    \n",
        "    return model"
      ]
    },
    {
      "cell_type": "code",
      "execution_count": null,
      "metadata": {
        "id": "DBjQV9baXfID"
      },
      "outputs": [],
      "source": [
        "model_preprocess = build_model() "
      ]
    },
    {
      "cell_type": "code",
      "execution_count": null,
      "metadata": {
        "id": "aPHB60nvXfID"
      },
      "outputs": [],
      "source": [
        "# implementing early stopping\n",
        "\n",
        "es = EarlyStopping(monitor='val_loss',  #metric to monitor\n",
        "                   mode='min',  # whether to minimize or maximize the metric monitored\n",
        "                   patience=10,  # how many epochs to wait before declaring stopped training\n",
        "                   verbose=1  # output epoch when training was stopped\n",
        "                   )"
      ]
    },
    {
      "cell_type": "code",
      "execution_count": null,
      "metadata": {
        "id": "q5GlFqDZXfIE"
      },
      "outputs": [],
      "source": [
        "# model checkpoint - save the best model with best accuracy on val set\n",
        "mc = ModelCheckpoint('/content/drive/MyDrive/House Interior Prediction/feature_extraction.h5', \n",
        "                     monitor='val_loss', \n",
        "                     mode='min', \n",
        "                     verbose=1, # will tell the epoch+ accuracy everytime model is saved\n",
        "                     save_best_only=True)"
      ]
    },
    {
      "cell_type": "code",
      "execution_count": null,
      "metadata": {
        "colab": {
          "base_uri": "https://localhost:8080/"
        },
        "id": "URbPaB2vXfIE",
        "outputId": "e112ed2c-c4a7-48c4-aace-a3b2004cf4d7"
      },
      "outputs": [
        {
          "output_type": "stream",
          "name": "stdout",
          "text": [
            "Epoch 1/25\n",
            "\n",
            "Epoch 1: val_loss improved from inf to 0.71610, saving model to /content/feature_extraction.h5\n",
            "10/10 - 28s - loss: 1.0319 - auc_1: 0.4979 - val_loss: 0.7161 - val_auc_1: 0.4879 - 28s/epoch - 3s/step\n",
            "Epoch 2/25\n",
            "\n",
            "Epoch 2: val_loss improved from 0.71610 to 0.70489, saving model to /content/feature_extraction.h5\n",
            "10/10 - 13s - loss: 0.9064 - auc_1: 0.6040 - val_loss: 0.7049 - val_auc_1: 0.5267 - 13s/epoch - 1s/step\n",
            "Epoch 3/25\n",
            "\n",
            "Epoch 3: val_loss improved from 0.70489 to 0.69774, saving model to /content/feature_extraction.h5\n",
            "10/10 - 13s - loss: 0.8765 - auc_1: 0.6281 - val_loss: 0.6977 - val_auc_1: 0.5489 - 13s/epoch - 1s/step\n",
            "Epoch 4/25\n",
            "\n",
            "Epoch 4: val_loss improved from 0.69774 to 0.69302, saving model to /content/feature_extraction.h5\n",
            "10/10 - 13s - loss: 0.8737 - auc_1: 0.6199 - val_loss: 0.6930 - val_auc_1: 0.5681 - 13s/epoch - 1s/step\n",
            "Epoch 5/25\n",
            "\n",
            "Epoch 5: val_loss improved from 0.69302 to 0.68098, saving model to /content/feature_extraction.h5\n",
            "10/10 - 13s - loss: 0.8005 - auc_1: 0.6955 - val_loss: 0.6810 - val_auc_1: 0.6028 - 13s/epoch - 1s/step\n",
            "Epoch 6/25\n",
            "\n",
            "Epoch 6: val_loss improved from 0.68098 to 0.66388, saving model to /content/feature_extraction.h5\n",
            "10/10 - 13s - loss: 0.7779 - auc_1: 0.7071 - val_loss: 0.6639 - val_auc_1: 0.6395 - 13s/epoch - 1s/step\n",
            "Epoch 7/25\n",
            "\n",
            "Epoch 7: val_loss improved from 0.66388 to 0.65537, saving model to /content/feature_extraction.h5\n",
            "10/10 - 13s - loss: 0.7339 - auc_1: 0.7367 - val_loss: 0.6554 - val_auc_1: 0.6494 - 13s/epoch - 1s/step\n",
            "Epoch 8/25\n",
            "\n",
            "Epoch 8: val_loss improved from 0.65537 to 0.64834, saving model to /content/feature_extraction.h5\n",
            "10/10 - 13s - loss: 0.7202 - auc_1: 0.7251 - val_loss: 0.6483 - val_auc_1: 0.6669 - 13s/epoch - 1s/step\n",
            "Epoch 9/25\n",
            "\n",
            "Epoch 9: val_loss improved from 0.64834 to 0.64532, saving model to /content/feature_extraction.h5\n",
            "10/10 - 13s - loss: 0.7426 - auc_1: 0.7161 - val_loss: 0.6453 - val_auc_1: 0.6702 - 13s/epoch - 1s/step\n",
            "Epoch 10/25\n",
            "\n",
            "Epoch 10: val_loss improved from 0.64532 to 0.64041, saving model to /content/feature_extraction.h5\n",
            "10/10 - 13s - loss: 0.6455 - auc_1: 0.7863 - val_loss: 0.6404 - val_auc_1: 0.6798 - 13s/epoch - 1s/step\n",
            "Epoch 11/25\n",
            "\n",
            "Epoch 11: val_loss improved from 0.64041 to 0.63103, saving model to /content/feature_extraction.h5\n",
            "10/10 - 13s - loss: 0.6813 - auc_1: 0.7693 - val_loss: 0.6310 - val_auc_1: 0.6853 - 13s/epoch - 1s/step\n",
            "Epoch 12/25\n",
            "\n",
            "Epoch 12: val_loss improved from 0.63103 to 0.62794, saving model to /content/feature_extraction.h5\n",
            "10/10 - 13s - loss: 0.6427 - auc_1: 0.8052 - val_loss: 0.6279 - val_auc_1: 0.6915 - 13s/epoch - 1s/step\n",
            "Epoch 13/25\n",
            "\n",
            "Epoch 13: val_loss did not improve from 0.62794\n",
            "10/10 - 12s - loss: 0.6606 - auc_1: 0.7777 - val_loss: 0.6356 - val_auc_1: 0.6805 - 12s/epoch - 1s/step\n",
            "Epoch 14/25\n",
            "\n",
            "Epoch 14: val_loss did not improve from 0.62794\n",
            "10/10 - 12s - loss: 0.6893 - auc_1: 0.7630 - val_loss: 0.6398 - val_auc_1: 0.6762 - 12s/epoch - 1s/step\n",
            "Epoch 15/25\n",
            "\n",
            "Epoch 15: val_loss did not improve from 0.62794\n",
            "10/10 - 12s - loss: 0.6577 - auc_1: 0.7753 - val_loss: 0.6396 - val_auc_1: 0.6767 - 12s/epoch - 1s/step\n",
            "Epoch 16/25\n",
            "\n",
            "Epoch 16: val_loss did not improve from 0.62794\n",
            "10/10 - 13s - loss: 0.6134 - auc_1: 0.7970 - val_loss: 0.6326 - val_auc_1: 0.6877 - 13s/epoch - 1s/step\n",
            "Epoch 17/25\n",
            "\n",
            "Epoch 17: val_loss improved from 0.62794 to 0.62790, saving model to /content/feature_extraction.h5\n",
            "10/10 - 13s - loss: 0.6402 - auc_1: 0.7783 - val_loss: 0.6279 - val_auc_1: 0.6963 - 13s/epoch - 1s/step\n",
            "Epoch 18/25\n",
            "\n",
            "Epoch 18: val_loss improved from 0.62790 to 0.61975, saving model to /content/feature_extraction.h5\n",
            "10/10 - 13s - loss: 0.5709 - auc_1: 0.8203 - val_loss: 0.6198 - val_auc_1: 0.7092 - 13s/epoch - 1s/step\n",
            "Epoch 19/25\n",
            "\n",
            "Epoch 19: val_loss improved from 0.61975 to 0.61860, saving model to /content/feature_extraction.h5\n",
            "10/10 - 13s - loss: 0.6355 - auc_1: 0.7841 - val_loss: 0.6186 - val_auc_1: 0.7132 - 13s/epoch - 1s/step\n",
            "Epoch 20/25\n",
            "\n",
            "Epoch 20: val_loss did not improve from 0.61860\n",
            "10/10 - 13s - loss: 0.5917 - auc_1: 0.8136 - val_loss: 0.6253 - val_auc_1: 0.7038 - 13s/epoch - 1s/step\n",
            "Epoch 21/25\n",
            "\n",
            "Epoch 21: val_loss did not improve from 0.61860\n",
            "10/10 - 12s - loss: 0.6144 - auc_1: 0.7932 - val_loss: 0.6307 - val_auc_1: 0.6998 - 12s/epoch - 1s/step\n",
            "Epoch 22/25\n",
            "\n",
            "Epoch 22: val_loss did not improve from 0.61860\n",
            "10/10 - 12s - loss: 0.5911 - auc_1: 0.8136 - val_loss: 0.6284 - val_auc_1: 0.6944 - 12s/epoch - 1s/step\n",
            "Epoch 23/25\n",
            "\n",
            "Epoch 23: val_loss did not improve from 0.61860\n",
            "10/10 - 12s - loss: 0.5818 - auc_1: 0.8110 - val_loss: 0.6193 - val_auc_1: 0.7017 - 12s/epoch - 1s/step\n",
            "Epoch 24/25\n",
            "\n",
            "Epoch 24: val_loss did not improve from 0.61860\n",
            "10/10 - 13s - loss: 0.5856 - auc_1: 0.8082 - val_loss: 0.6194 - val_auc_1: 0.7006 - 13s/epoch - 1s/step\n",
            "Epoch 25/25\n",
            "\n",
            "Epoch 25: val_loss did not improve from 0.61860\n",
            "10/10 - 13s - loss: 0.6006 - auc_1: 0.7966 - val_loss: 0.6283 - val_auc_1: 0.6904 - 13s/epoch - 1s/step\n"
          ]
        }
      ],
      "source": [
        "# Training the model\n",
        "hist = model_preprocess.fit(\n",
        "    x=trainGen,\n",
        "    epochs=25,\n",
        "    verbose=2,\n",
        "    validation_data=valGen,\n",
        "    # shuffle=True, # argument is ignored when `x` is a generator\n",
        "    steps_per_epoch=totalTrain // BATCH_SIZE,\n",
        "    callbacks=[es, mc]\n",
        ")"
      ]
    },
    {
      "cell_type": "code",
      "execution_count": null,
      "metadata": {
        "colab": {
          "base_uri": "https://localhost:8080/",
          "height": 296
        },
        "id": "H2tSIsn7XfIE",
        "outputId": "a292ecb4-9348-4b0e-c8ee-2f2caf751aa2"
      },
      "outputs": [
        {
          "output_type": "display_data",
          "data": {
            "text/plain": [
              "<Figure size 432x288 with 1 Axes>"
            ],
            "image/png": "[encoded data removed]"
          },
          "metadata": {
            "needs_background": "light"
          }
        }
      ],
      "source": [
        "# plotting losses to see if it would have benefitted from more epochs\n",
        "\n",
        "plot_hist(hist, metric=\"loss\")"
      ]
    },
    {
      "cell_type": "code",
      "execution_count": null,
      "metadata": {
        "colab": {
          "base_uri": "https://localhost:8080/",
          "height": 299
        },
        "id": "Diu2VNgkXfIF",
        "outputId": "940c1722-bffb-4cbc-e5fd-972029eaf527"
      },
      "outputs": [
        {
          "output_type": "display_data",
          "data": {
            "text/plain": [
              "<Figure size 432x288 with 1 Axes>"
            ],
            "image/png": "[encoded data removed]"
          },
          "metadata": {}
        }
      ],
      "source": [
        "plot_hist(hist, metric=\"auc_2\")"
      ]
    },
    {
      "cell_type": "code",
      "execution_count": null,
      "metadata": {
        "colab": {
          "base_uri": "https://localhost:8080/",
          "height": 338
        },
        "id": "tfkYQy05XfIF",
        "outputId": "5c0bc96b-588b-4ff7-ad65-75f9a3b5f54a"
      },
      "outputs": [
        {
          "output_type": "stream",
          "name": "stdout",
          "text": [
            "2/2 [==============================] - 2s 551ms/step\n",
            "No. of test images 46\n",
            "{'M': 0, 'O': 1}\n"
          ]
        },
        {
          "output_type": "display_data",
          "data": {
            "text/plain": [
              "<Figure size 432x288 with 2 Axes>"
            ],
            "image/png": "[encoded data removed]"
          },
          "metadata": {}
        }
      ],
      "source": [
        "# Checking the performance on testset\n",
        "testGen.reset()\n",
        "\n",
        "predIdxs = model_preprocess.predict(x=testGen, \n",
        "                                    steps=(totalTest // BATCH_SIZE) + 1\n",
        "                                    )\n",
        "\n",
        "predIdxs = np.argmax(predIdxs, axis = 1)\n",
        "print(\"No. of test images\", len(predIdxs))\n",
        "print(testGen.class_indices)\n",
        "\n",
        "cm = confusion_matrix(testGen.classes, predIdxs)\n",
        "\n",
        "heatmap = sns.heatmap(cm, annot=True)\n",
        "\n",
        "plt.xlabel(\"Predicted\") \n",
        "plt.ylabel(\"Actual\")\n",
        "plt.show()\n"
      ]
    },
    {
      "cell_type": "markdown",
      "metadata": {
        "id": "iyYp89ALXfIG"
      },
      "source": [
        "Observation: As you can see, the diagonal should have maximum number of instances."
      ]
    },
    {
      "cell_type": "markdown",
      "metadata": {
        "id": "t_L7NlEDXfIG"
      },
      "source": [
        "### Fine Tuning Step"
      ]
    },
    {
      "cell_type": "markdown",
      "metadata": {
        "id": "XbCTVVWiXfIG"
      },
      "source": [
        "Observation: Although this step is optional, it can greatly help if your training dataset varies signficantly on which EfficientNet was trained.\n",
        "\n",
        "We will start by unfreezing last 20 layers i.e. 1 block (plus some additional layers)."
      ]
    },
    {
      "cell_type": "code",
      "execution_count": null,
      "metadata": {
        "id": "Hl9lP9EAXfIG"
      },
      "outputs": [],
      "source": [
        "def fine_tune_model(model):\n",
        "    \n",
        "    # unfreeze last conv block i.e. block7a which can be found in top 20 layers\n",
        "    for layer in model.layers[-20:]:\n",
        "        if not isinstance(layer, BatchNormalization):\n",
        "            layer.trainable = True\n",
        "            \n",
        "    # check which of these are trainable and which aren't\n",
        "    for layer in model.layers:\n",
        "\t    print(\"{}: {}\".format(layer, layer.trainable))\n",
        "     \n",
        "     \n",
        "    # compile (with an even smaller learning rate)\n",
        "    opt = Adam(learning_rate=1e-5)\n",
        "    model.compile(optimizer=opt, \n",
        "                loss='binary_crossentropy', \n",
        "                metrics=[tf.keras.metrics.AUC()])\n",
        "    \n",
        "    return model"
      ]
    },
    {
      "cell_type": "code",
      "execution_count": null,
      "metadata": {
        "colab": {
          "base_uri": "https://localhost:8080/"
        },
        "id": "jipyfVCSXfIG",
        "outputId": "ea6e8e95-7ac9-466b-bedb-4bce08dc959f"
      },
      "outputs": [
        {
          "output_type": "stream",
          "name": "stdout",
          "text": [
            "<keras.engine.input_layer.InputLayer object at 0x7fda600afb80>: False\n",
            "<keras.layers.preprocessing.image_preprocessing.Rescaling object at 0x7fda600af910>: False\n",
            "<keras.layers.preprocessing.normalization.Normalization object at 0x7fda600af970>: False\n",
            "<keras.layers.core.tf_op_layer.TFOpLambda object at 0x7fda603fac40>: False\n",
            "<keras.layers.reshaping.zero_padding2d.ZeroPadding2D object at 0x7fda0c1e0490>: False\n",
            "<keras.layers.convolutional.conv2d.Conv2D object at 0x7fda6051aee0>: False\n",
            "<keras.layers.normalization.batch_normalization.BatchNormalization object at 0x7fda600af9a0>: False\n",
            "<keras.layers.core.activation.Activation object at 0x7fda0c1fd4f0>: False\n",
            "<keras.layers.convolutional.depthwise_conv2d.DepthwiseConv2D object at 0x7fda0c1fd880>: False\n",
            "<keras.layers.normalization.batch_normalization.BatchNormalization object at 0x7fda603fad90>: False\n",
            "<keras.layers.core.activation.Activation object at 0x7fda0c209100>: False\n",
            "<keras.layers.pooling.global_average_pooling2d.GlobalAveragePooling2D object at 0x7fda0c2095e0>: False\n",
            "<keras.layers.reshaping.reshape.Reshape object at 0x7fda0c209040>: False\n",
            "<keras.layers.convolutional.conv2d.Conv2D object at 0x7fda0c1ec460>: False\n",
            "<keras.layers.convolutional.conv2d.Conv2D object at 0x7fda0c1e0760>: False\n",
            "<keras.layers.merging.multiply.Multiply object at 0x7fda60426970>: False\n",
            "<keras.layers.convolutional.conv2d.Conv2D object at 0x7fda0c196a60>: False\n",
            "<keras.layers.normalization.batch_normalization.BatchNormalization object at 0x7fda0c19de50>: False\n",
            "<keras.layers.convolutional.conv2d.Conv2D object at 0x7fda0c1fde50>: False\n",
            "<keras.layers.normalization.batch_normalization.BatchNormalization object at 0x7fda0c19d2e0>: False\n",
            "<keras.layers.core.activation.Activation object at 0x7fda0c1aaf10>: False\n",
            "<keras.layers.reshaping.zero_padding2d.ZeroPadding2D object at 0x7fda0c1aad30>: False\n",
            "<keras.layers.convolutional.depthwise_conv2d.DepthwiseConv2D object at 0x7fda0c1a6550>: False\n",
            "<keras.layers.normalization.batch_normalization.BatchNormalization object at 0x7fda0c1b7f10>: False\n",
            "<keras.layers.core.activation.Activation object at 0x7fda0c1b7ee0>: False\n",
            "<keras.layers.pooling.global_average_pooling2d.GlobalAveragePooling2D object at 0x7fda0c1bffa0>: False\n",
            "<keras.layers.reshaping.reshape.Reshape object at 0x7fda0c1c66a0>: False\n",
            "<keras.layers.convolutional.conv2d.Conv2D object at 0x7fda0c1cb550>: False\n",
            "<keras.layers.convolutional.conv2d.Conv2D object at 0x7fda0c1cb820>: False\n",
            "<keras.layers.merging.multiply.Multiply object at 0x7fda0c1cba00>: False\n",
            "<keras.layers.convolutional.conv2d.Conv2D object at 0x7fda0c15abe0>: False\n",
            "<keras.layers.normalization.batch_normalization.BatchNormalization object at 0x7fda0c15ac40>: False\n",
            "<keras.layers.convolutional.conv2d.Conv2D object at 0x7fda0c1cb6d0>: False\n",
            "<keras.layers.normalization.batch_normalization.BatchNormalization object at 0x7fda0c1cbee0>: False\n",
            "<keras.layers.core.activation.Activation object at 0x7fda0c15aeb0>: False\n",
            "<keras.layers.convolutional.depthwise_conv2d.DepthwiseConv2D object at 0x7fda0c171d90>: False\n",
            "<keras.layers.normalization.batch_normalization.BatchNormalization object at 0x7fda0c1bff70>: False\n",
            "<keras.layers.core.activation.Activation object at 0x7fda0c176fd0>: False\n",
            "<keras.layers.pooling.global_average_pooling2d.GlobalAveragePooling2D object at 0x7fda0c17ea00>: False\n",
            "<keras.layers.reshaping.reshape.Reshape object at 0x7fda0c164ca0>: False\n",
            "<keras.layers.convolutional.conv2d.Conv2D object at 0x7fda0c164d30>: False\n",
            "<keras.layers.convolutional.conv2d.Conv2D object at 0x7fda0c164670>: False\n",
            "<keras.layers.merging.multiply.Multiply object at 0x7fda0c176e20>: False\n",
            "<keras.layers.convolutional.conv2d.Conv2D object at 0x7fda0c153ac0>: False\n",
            "<keras.layers.normalization.batch_normalization.BatchNormalization object at 0x7fda0c191c70>: False\n",
            "<keras.layers.regularization.dropout.Dropout object at 0x7fda0c11dd60>: False\n",
            "<keras.layers.merging.add.Add object at 0x7fda0c124790>: False\n",
            "<keras.layers.convolutional.conv2d.Conv2D object at 0x7fda0c19dd00>: False\n",
            "<keras.layers.normalization.batch_normalization.BatchNormalization object at 0x7fda0c12c310>: False\n",
            "<keras.layers.core.activation.Activation object at 0x7fda0c12c2b0>: False\n",
            "<keras.layers.reshaping.zero_padding2d.ZeroPadding2D object at 0x7fda0c134940>: False\n",
            "<keras.layers.convolutional.depthwise_conv2d.DepthwiseConv2D object at 0x7fda0c137f10>: False\n",
            "<keras.layers.normalization.batch_normalization.BatchNormalization object at 0x7fda0c1348e0>: False\n",
            "<keras.layers.core.activation.Activation object at 0x7fda0c124a60>: False\n",
            "<keras.layers.pooling.global_average_pooling2d.GlobalAveragePooling2D object at 0x7fda0c164400>: False\n",
            "<keras.layers.reshaping.reshape.Reshape object at 0x7fda0c17e520>: False\n",
            "<keras.layers.convolutional.conv2d.Conv2D object at 0x7fda0c11deb0>: False\n",
            "<keras.layers.convolutional.conv2d.Conv2D object at 0x7fda0c12ca00>: False\n",
            "<keras.layers.merging.multiply.Multiply object at 0x7fda0c12cf40>: False\n",
            "<keras.layers.convolutional.conv2d.Conv2D object at 0x7fda0c15a970>: False\n",
            "<keras.layers.normalization.batch_normalization.BatchNormalization object at 0x7fda0c1bfe20>: False\n",
            "<keras.layers.convolutional.conv2d.Conv2D object at 0x7fda0c1916d0>: False\n",
            "<keras.layers.normalization.batch_normalization.BatchNormalization object at 0x7fda0c124ee0>: False\n",
            "<keras.layers.core.activation.Activation object at 0x7fda0c1512e0>: False\n",
            "<keras.layers.convolutional.depthwise_conv2d.DepthwiseConv2D object at 0x7fda0c1441f0>: False\n",
            "<keras.layers.normalization.batch_normalization.BatchNormalization object at 0x7fda0c12c280>: False\n",
            "<keras.layers.core.activation.Activation object at 0x7fda0c151e20>: False\n",
            "<keras.layers.pooling.global_average_pooling2d.GlobalAveragePooling2D object at 0x7fda0c19deb0>: False\n",
            "<keras.layers.reshaping.reshape.Reshape object at 0x7fda0c1242e0>: False\n",
            "<keras.layers.convolutional.conv2d.Conv2D object at 0x7fda0c0e2790>: False\n",
            "<keras.layers.convolutional.conv2d.Conv2D object at 0x7fda0c151a60>: False\n",
            "<keras.layers.merging.multiply.Multiply object at 0x7fda0c0f8f40>: False\n",
            "<keras.layers.convolutional.conv2d.Conv2D object at 0x7fda0c0db190>: False\n",
            "<keras.layers.normalization.batch_normalization.BatchNormalization object at 0x7fda0c0f8880>: False\n",
            "<keras.layers.regularization.dropout.Dropout object at 0x7fda0c0db520>: False\n",
            "<keras.layers.merging.add.Add object at 0x7fda0c1111c0>: False\n",
            "<keras.layers.convolutional.conv2d.Conv2D object at 0x7fda60464430>: False\n",
            "<keras.layers.normalization.batch_normalization.BatchNormalization object at 0x7fda0c109a30>: False\n",
            "<keras.layers.core.activation.Activation object at 0x7fda0c097280>: False\n",
            "<keras.layers.reshaping.zero_padding2d.ZeroPadding2D object at 0x7fda0c0eba00>: False\n",
            "<keras.layers.convolutional.depthwise_conv2d.DepthwiseConv2D object at 0x7fda0c134430>: False\n",
            "<keras.layers.normalization.batch_normalization.BatchNormalization object at 0x7fda0c101ac0>: False\n",
            "<keras.layers.core.activation.Activation object at 0x7fda0c1bf910>: False\n",
            "<keras.layers.pooling.global_average_pooling2d.GlobalAveragePooling2D object at 0x7fda0c1115b0>: False\n",
            "<keras.layers.reshaping.reshape.Reshape object at 0x7fda0c097970>: False\n",
            "<keras.layers.convolutional.conv2d.Conv2D object at 0x7fda60495a30>: False\n",
            "<keras.layers.convolutional.conv2d.Conv2D object at 0x7fda0c1094c0>: False\n",
            "<keras.layers.merging.multiply.Multiply object at 0x7fda0c0b3e20>: False\n",
            "<keras.layers.convolutional.conv2d.Conv2D object at 0x7fda0c0a4c40>: False\n",
            "<keras.layers.normalization.batch_normalization.BatchNormalization object at 0x7fda0c0f8130>: False\n",
            "<keras.layers.convolutional.conv2d.Conv2D object at 0x7fda0c0ca640>: False\n",
            "<keras.layers.normalization.batch_normalization.BatchNormalization object at 0x7fda0c0ad280>: False\n",
            "<keras.layers.core.activation.Activation object at 0x7fda0c066730>: False\n",
            "<keras.layers.convolutional.depthwise_conv2d.DepthwiseConv2D object at 0x7fda0c0668b0>: False\n",
            "<keras.layers.normalization.batch_normalization.BatchNormalization object at 0x7fda0c0b3970>: False\n",
            "<keras.layers.core.activation.Activation object at 0x7fda0c0c22e0>: False\n",
            "<keras.layers.pooling.global_average_pooling2d.GlobalAveragePooling2D object at 0x7fda0c059ac0>: False\n",
            "<keras.layers.reshaping.reshape.Reshape object at 0x7fda0c066f70>: False\n",
            "<keras.layers.convolutional.conv2d.Conv2D object at 0x7fda0c097b50>: False\n",
            "<keras.layers.convolutional.conv2d.Conv2D object at 0x7fda0c061eb0>: False\n",
            "<keras.layers.merging.multiply.Multiply object at 0x7fda0c0dbf10>: False\n",
            "<keras.layers.convolutional.conv2d.Conv2D object at 0x7fda0c144af0>: False\n",
            "<keras.layers.normalization.batch_normalization.BatchNormalization object at 0x7fda0c0ebbe0>: False\n",
            "<keras.layers.regularization.dropout.Dropout object at 0x7fda0c1cb220>: False\n",
            "<keras.layers.merging.add.Add object at 0x7fda0c1b1100>: False\n",
            "<keras.layers.convolutional.conv2d.Conv2D object at 0x7fda0c06f460>: False\n",
            "<keras.layers.normalization.batch_normalization.BatchNormalization object at 0x7fda0c11ddf0>: False\n",
            "<keras.layers.core.activation.Activation object at 0x7fda0c191760>: False\n",
            "<keras.layers.convolutional.depthwise_conv2d.DepthwiseConv2D object at 0x7fda0c06fa60>: False\n",
            "<keras.layers.normalization.batch_normalization.BatchNormalization object at 0x7fda0c0add30>: False\n",
            "<keras.layers.core.activation.Activation object at 0x7fda0c06fb20>: False\n",
            "<keras.layers.pooling.global_average_pooling2d.GlobalAveragePooling2D object at 0x7fda0c08d640>: False\n",
            "<keras.layers.reshaping.reshape.Reshape object at 0x7fda0c0758b0>: False\n",
            "<keras.layers.convolutional.conv2d.Conv2D object at 0x7fda0c012f10>: False\n",
            "<keras.layers.convolutional.conv2d.Conv2D object at 0x7fda0c079610>: False\n",
            "<keras.layers.merging.multiply.Multiply object at 0x7fda0c059070>: False\n",
            "<keras.layers.convolutional.conv2d.Conv2D object at 0x7fda0c134580>: False\n",
            "<keras.layers.normalization.batch_normalization.BatchNormalization object at 0x7fda0c01ec70>: False\n",
            "<keras.layers.regularization.dropout.Dropout object at 0x7fda0c026fd0>: False\n",
            "<keras.layers.merging.add.Add object at 0x7fda0c02d2e0>: False\n",
            "<keras.layers.convolutional.conv2d.Conv2D object at 0x7fda0c12cdc0>: False\n",
            "<keras.layers.normalization.batch_normalization.BatchNormalization object at 0x7fda0c075970>: False\n",
            "<keras.layers.core.activation.Activation object at 0x7fda0c0350d0>: False\n",
            "<keras.layers.convolutional.depthwise_conv2d.DepthwiseConv2D object at 0x7fda0c03c4c0>: False\n",
            "<keras.layers.normalization.batch_normalization.BatchNormalization object at 0x7fda0c084c10>: False\n",
            "<keras.layers.core.activation.Activation object at 0x7fda0c0757c0>: False\n",
            "<keras.layers.pooling.global_average_pooling2d.GlobalAveragePooling2D object at 0x7fda0c03c700>: False\n",
            "<keras.layers.reshaping.reshape.Reshape object at 0x7fda0c03c790>: False\n",
            "<keras.layers.convolutional.conv2d.Conv2D object at 0x7fda0c0798e0>: False\n",
            "<keras.layers.convolutional.conv2d.Conv2D object at 0x7fda0c035940>: False\n",
            "<keras.layers.merging.multiply.Multiply object at 0x7fd9f67ce040>: False\n",
            "<keras.layers.convolutional.conv2d.Conv2D object at 0x7fda0c0267f0>: False\n",
            "<keras.layers.normalization.batch_normalization.BatchNormalization object at 0x7fd9f67ce5e0>: False\n",
            "<keras.layers.convolutional.conv2d.Conv2D object at 0x7fd9f67dec10>: False\n",
            "<keras.layers.normalization.batch_normalization.BatchNormalization object at 0x7fda0c048c10>: False\n",
            "<keras.layers.core.activation.Activation object at 0x7fd9f67de1c0>: False\n",
            "<keras.layers.convolutional.depthwise_conv2d.DepthwiseConv2D object at 0x7fd9f67c2070>: False\n",
            "<keras.layers.normalization.batch_normalization.BatchNormalization object at 0x7fda0c0502e0>: False\n",
            "<keras.layers.core.activation.Activation object at 0x7fda0c0268b0>: False\n",
            "<keras.layers.pooling.global_average_pooling2d.GlobalAveragePooling2D object at 0x7fda0c08d370>: False\n",
            "<keras.layers.reshaping.reshape.Reshape object at 0x7fda0c012fd0>: False\n",
            "<keras.layers.convolutional.conv2d.Conv2D object at 0x7fda0c111ac0>: False\n",
            "<keras.layers.convolutional.conv2d.Conv2D object at 0x7fda0c012940>: False\n",
            "<keras.layers.merging.multiply.Multiply object at 0x7fd9f67f56d0>: False\n",
            "<keras.layers.convolutional.conv2d.Conv2D object at 0x7fd9f67c2820>: False\n",
            "<keras.layers.normalization.batch_normalization.BatchNormalization object at 0x7fd9f67edc10>: False\n",
            "<keras.layers.regularization.dropout.Dropout object at 0x7fda0c075370>: False\n",
            "<keras.layers.merging.add.Add object at 0x7fd9f67860a0>: False\n",
            "<keras.layers.convolutional.conv2d.Conv2D object at 0x7fda0c035a00>: False\n",
            "<keras.layers.normalization.batch_normalization.BatchNormalization object at 0x7fd9f67d7d60>: False\n",
            "<keras.layers.core.activation.Activation object at 0x7fd9f67d76a0>: False\n",
            "<keras.layers.convolutional.depthwise_conv2d.DepthwiseConv2D object at 0x7fd9f678c5b0>: False\n",
            "<keras.layers.normalization.batch_normalization.BatchNormalization object at 0x7fda0c012820>: False\n",
            "<keras.layers.core.activation.Activation object at 0x7fd9f678ce50>: False\n",
            "<keras.layers.pooling.global_average_pooling2d.GlobalAveragePooling2D object at 0x7fd9f67a2760>: False\n",
            "<keras.layers.reshaping.reshape.Reshape object at 0x7fd9f678cd60>: False\n",
            "<keras.layers.convolutional.conv2d.Conv2D object at 0x7fd9f67a22e0>: False\n",
            "<keras.layers.convolutional.conv2d.Conv2D object at 0x7fd9f677e0a0>: False\n",
            "<keras.layers.merging.multiply.Multiply object at 0x7fda0c0adc70>: False\n",
            "<keras.layers.convolutional.conv2d.Conv2D object at 0x7fd9f67f56a0>: False\n",
            "<keras.layers.normalization.batch_normalization.BatchNormalization object at 0x7fd9f67b6340>: False\n",
            "<keras.layers.regularization.dropout.Dropout object at 0x7fd9f67b6040>: False\n",
            "<keras.layers.merging.add.Add object at 0x7fd9f6743af0>: False\n",
            "<keras.layers.convolutional.conv2d.Conv2D object at 0x7fda0c06f0a0>: False\n",
            "<keras.layers.normalization.batch_normalization.BatchNormalization object at 0x7fd9f6750a30>: False\n",
            "<keras.layers.core.activation.Activation object at 0x7fd9f6743190>: False\n",
            "<keras.layers.reshaping.zero_padding2d.ZeroPadding2D object at 0x7fd9f6743430>: False\n",
            "<keras.layers.convolutional.depthwise_conv2d.DepthwiseConv2D object at 0x7fda0c097be0>: False\n",
            "<keras.layers.normalization.batch_normalization.BatchNormalization object at 0x7fd9f673daf0>: False\n",
            "<keras.layers.core.activation.Activation object at 0x7fd9f6750ca0>: False\n",
            "<keras.layers.pooling.global_average_pooling2d.GlobalAveragePooling2D object at 0x7fd9f6750e80>: False\n",
            "<keras.layers.reshaping.reshape.Reshape object at 0x7fd9f6771e50>: False\n",
            "<keras.layers.convolutional.conv2d.Conv2D object at 0x7fd9f6750a00>: False\n",
            "<keras.layers.convolutional.conv2d.Conv2D object at 0x7fd9f6759040>: False\n",
            "<keras.layers.merging.multiply.Multiply object at 0x7fd9f6702f10>: False\n",
            "<keras.layers.convolutional.conv2d.Conv2D object at 0x7fd9f6702970>: False\n",
            "<keras.layers.normalization.batch_normalization.BatchNormalization object at 0x7fd9f6702e80>: False\n",
            "<keras.layers.convolutional.conv2d.Conv2D object at 0x7fd9f6702a30>: False\n",
            "<keras.layers.normalization.batch_normalization.BatchNormalization object at 0x7fd9f67a2d60>: False\n",
            "<keras.layers.core.activation.Activation object at 0x7fd9f67aa7f0>: False\n",
            "<keras.layers.convolutional.depthwise_conv2d.DepthwiseConv2D object at 0x7fd9f6771430>: False\n",
            "<keras.layers.normalization.batch_normalization.BatchNormalization object at 0x7fd9f6750b80>: False\n",
            "<keras.layers.core.activation.Activation object at 0x7fda0c012a30>: False\n",
            "<keras.layers.pooling.global_average_pooling2d.GlobalAveragePooling2D object at 0x7fda0c111730>: False\n",
            "<keras.layers.reshaping.reshape.Reshape object at 0x7fd9f676b5e0>: False\n",
            "<keras.layers.convolutional.conv2d.Conv2D object at 0x7fd9f676be20>: False\n",
            "<keras.layers.convolutional.conv2d.Conv2D object at 0x7fd9f67a2640>: False\n",
            "<keras.layers.merging.multiply.Multiply object at 0x7fd9f676b430>: False\n",
            "<keras.layers.convolutional.conv2d.Conv2D object at 0x7fd9f6702790>: False\n",
            "<keras.layers.normalization.batch_normalization.BatchNormalization object at 0x7fd9f6712be0>: False\n",
            "<keras.layers.regularization.dropout.Dropout object at 0x7fd9f671cfa0>: False\n",
            "<keras.layers.merging.add.Add object at 0x7fd9f67236d0>: False\n",
            "<keras.layers.convolutional.conv2d.Conv2D object at 0x7fd9f67503a0>: False\n",
            "<keras.layers.normalization.batch_normalization.BatchNormalization object at 0x7fd9f672c280>: False\n",
            "<keras.layers.core.activation.Activation object at 0x7fd9f672c160>: False\n",
            "<keras.layers.convolutional.depthwise_conv2d.DepthwiseConv2D object at 0x7fd9f673c370>: False\n",
            "<keras.layers.normalization.batch_normalization.BatchNormalization object at 0x7fd9f6771a60>: False\n",
            "<keras.layers.core.activation.Activation object at 0x7fd9f6723fd0>: False\n",
            "<keras.layers.pooling.global_average_pooling2d.GlobalAveragePooling2D object at 0x7fda0c059220>: False\n",
            "<keras.layers.reshaping.reshape.Reshape object at 0x7fd9f6732b80>: False\n",
            "<keras.layers.convolutional.conv2d.Conv2D object at 0x7fd9f66c2250>: False\n",
            "<keras.layers.convolutional.conv2d.Conv2D object at 0x7fd9f672cc70>: False\n",
            "<keras.layers.merging.multiply.Multiply object at 0x7fd9f670e550>: False\n",
            "<keras.layers.convolutional.conv2d.Conv2D object at 0x7fd9f671cb20>: False\n",
            "<keras.layers.normalization.batch_normalization.BatchNormalization object at 0x7fd9f66de5e0>: False\n",
            "<keras.layers.regularization.dropout.Dropout object at 0x7fd9f66ee220>: False\n",
            "<keras.layers.merging.add.Add object at 0x7fd9f672c2e0>: False\n",
            "<keras.layers.convolutional.conv2d.Conv2D object at 0x7fd9f66eef40>: False\n",
            "<keras.layers.normalization.batch_normalization.BatchNormalization object at 0x7fd9f66e5c10>: False\n",
            "<keras.layers.core.activation.Activation object at 0x7fd9f6681310>: False\n",
            "<keras.layers.convolutional.depthwise_conv2d.DepthwiseConv2D object at 0x7fd9f6681070>: False\n",
            "<keras.layers.normalization.batch_normalization.BatchNormalization object at 0x7fd9f66c24c0>: False\n",
            "<keras.layers.core.activation.Activation object at 0x7fd9f6681910>: False\n",
            "<keras.layers.pooling.global_average_pooling2d.GlobalAveragePooling2D object at 0x7fd9f6689f70>: False\n",
            "<keras.layers.reshaping.reshape.Reshape object at 0x7fd9f66817c0>: False\n",
            "<keras.layers.convolutional.conv2d.Conv2D object at 0x7fd9f6723c40>: False\n",
            "<keras.layers.convolutional.conv2d.Conv2D object at 0x7fd9f6699700>: False\n",
            "<keras.layers.merging.multiply.Multiply object at 0x7fd9f6699b50>: False\n",
            "<keras.layers.convolutional.conv2d.Conv2D object at 0x7fd9f66f5160>: False\n",
            "<keras.layers.normalization.batch_normalization.BatchNormalization object at 0x7fd9f6699730>: False\n",
            "<keras.layers.regularization.dropout.Dropout object at 0x7fd9f66c2a60>: False\n",
            "<keras.layers.merging.add.Add object at 0x7fd9f66c24f0>: False\n",
            "<keras.layers.convolutional.conv2d.Conv2D object at 0x7fd9f6786c40>: True\n",
            "<keras.layers.normalization.batch_normalization.BatchNormalization object at 0x7fd9f67a26a0>: False\n",
            "<keras.layers.core.activation.Activation object at 0x7fd9f6681610>: True\n",
            "<keras.layers.convolutional.depthwise_conv2d.DepthwiseConv2D object at 0x7fd9f67125b0>: True\n",
            "<keras.layers.normalization.batch_normalization.BatchNormalization object at 0x7fd9f66898b0>: False\n",
            "<keras.layers.core.activation.Activation object at 0x7fd9f670e880>: True\n",
            "<keras.layers.pooling.global_average_pooling2d.GlobalAveragePooling2D object at 0x7fd9f66e55b0>: True\n",
            "<keras.layers.reshaping.reshape.Reshape object at 0x7fd9f66af160>: True\n",
            "<keras.layers.convolutional.conv2d.Conv2D object at 0x7fd9f66e5d00>: True\n",
            "<keras.layers.convolutional.conv2d.Conv2D object at 0x7fd9f67ed1c0>: True\n",
            "<keras.layers.merging.multiply.Multiply object at 0x7fd9f66e59a0>: True\n",
            "<keras.layers.convolutional.conv2d.Conv2D object at 0x7fd9f66b8e50>: True\n",
            "<keras.layers.normalization.batch_normalization.BatchNormalization object at 0x7fd9f6681520>: False\n",
            "<keras.layers.convolutional.conv2d.Conv2D object at 0x7fda0c1fd520>: True\n",
            "<keras.layers.normalization.batch_normalization.BatchNormalization object at 0x7fd9f66cd550>: False\n",
            "<keras.layers.core.activation.Activation object at 0x7fd9f66559a0>: True\n",
            "<keras.layers.pooling.global_average_pooling2d.GlobalAveragePooling2D object at 0x7fd9f6655310>: True\n",
            "<keras.layers.normalization.batch_normalization.BatchNormalization object at 0x7fda600af610>: True\n",
            "<keras.layers.regularization.dropout.Dropout object at 0x7fda600afdc0>: True\n",
            "<keras.layers.core.dense.Dense object at 0x7fd9f66ee9d0>: True\n"
          ]
        }
      ],
      "source": [
        "model_fine_tuned = fine_tune_model(model_preprocess)"
      ]
    },
    {
      "cell_type": "code",
      "execution_count": null,
      "metadata": {
        "colab": {
          "base_uri": "https://localhost:8080/"
        },
        "id": "79bpmcd2XfIG",
        "outputId": "875566dc-ad61-420d-e2ed-a0b73f8d496e"
      },
      "outputs": [
        {
          "output_type": "stream",
          "name": "stdout",
          "text": [
            "Epoch 1/50\n",
            "\n",
            "Epoch 1: val_loss improved from inf to 0.62959, saving model to /content/fine_tuned_house.h5\n",
            "10/10 - 22s - loss: 0.5717 - auc_2: 0.8194 - val_loss: 0.6296 - val_auc_2: 0.6891 - 22s/epoch - 2s/step\n",
            "Epoch 2/50\n",
            "\n",
            "Epoch 2: val_loss did not improve from 0.62959\n",
            "10/10 - 13s - loss: 0.5848 - auc_2: 0.8096 - val_loss: 0.6316 - val_auc_2: 0.6857 - 13s/epoch - 1s/step\n",
            "Epoch 3/50\n",
            "\n",
            "Epoch 3: val_loss did not improve from 0.62959\n",
            "10/10 - 12s - loss: 0.5812 - auc_2: 0.8167 - val_loss: 0.6331 - val_auc_2: 0.6874 - 12s/epoch - 1s/step\n",
            "Epoch 4/50\n",
            "\n",
            "Epoch 4: val_loss did not improve from 0.62959\n",
            "10/10 - 12s - loss: 0.5598 - auc_2: 0.8282 - val_loss: 0.6341 - val_auc_2: 0.6869 - 12s/epoch - 1s/step\n",
            "Epoch 5/50\n",
            "\n",
            "Epoch 5: val_loss did not improve from 0.62959\n",
            "10/10 - 12s - loss: 0.5163 - auc_2: 0.8537 - val_loss: 0.6345 - val_auc_2: 0.6887 - 12s/epoch - 1s/step\n",
            "Epoch 6/50\n",
            "\n",
            "Epoch 6: val_loss did not improve from 0.62959\n",
            "10/10 - 13s - loss: 0.5613 - auc_2: 0.8208 - val_loss: 0.6355 - val_auc_2: 0.6897 - 13s/epoch - 1s/step\n",
            "Epoch 7/50\n",
            "\n",
            "Epoch 7: val_loss did not improve from 0.62959\n",
            "10/10 - 12s - loss: 0.5141 - auc_2: 0.8553 - val_loss: 0.6375 - val_auc_2: 0.6862 - 12s/epoch - 1s/step\n",
            "Epoch 8/50\n",
            "\n",
            "Epoch 8: val_loss did not improve from 0.62959\n",
            "10/10 - 12s - loss: 0.6225 - auc_2: 0.7952 - val_loss: 0.6385 - val_auc_2: 0.6885 - 12s/epoch - 1s/step\n",
            "Epoch 9/50\n",
            "\n",
            "Epoch 9: val_loss did not improve from 0.62959\n",
            "10/10 - 12s - loss: 0.5723 - auc_2: 0.8161 - val_loss: 0.6403 - val_auc_2: 0.6888 - 12s/epoch - 1s/step\n",
            "Epoch 10/50\n",
            "\n",
            "Epoch 10: val_loss did not improve from 0.62959\n",
            "10/10 - 13s - loss: 0.5358 - auc_2: 0.8388 - val_loss: 0.6412 - val_auc_2: 0.6883 - 13s/epoch - 1s/step\n",
            "Epoch 11/50\n",
            "\n",
            "Epoch 11: val_loss did not improve from 0.62959\n",
            "10/10 - 13s - loss: 0.5331 - auc_2: 0.8409 - val_loss: 0.6418 - val_auc_2: 0.6872 - 13s/epoch - 1s/step\n",
            "Epoch 12/50\n",
            "\n",
            "Epoch 12: val_loss did not improve from 0.62959\n",
            "10/10 - 12s - loss: 0.5245 - auc_2: 0.8481 - val_loss: 0.6428 - val_auc_2: 0.6872 - 12s/epoch - 1s/step\n",
            "Epoch 13/50\n",
            "\n",
            "Epoch 13: val_loss did not improve from 0.62959\n",
            "10/10 - 13s - loss: 0.5871 - auc_2: 0.8164 - val_loss: 0.6447 - val_auc_2: 0.6864 - 13s/epoch - 1s/step\n",
            "Epoch 14/50\n",
            "\n",
            "Epoch 14: val_loss did not improve from 0.62959\n",
            "10/10 - 12s - loss: 0.5436 - auc_2: 0.8363 - val_loss: 0.6463 - val_auc_2: 0.6861 - 12s/epoch - 1s/step\n",
            "Epoch 15/50\n",
            "\n",
            "Epoch 15: val_loss did not improve from 0.62959\n",
            "10/10 - 12s - loss: 0.5094 - auc_2: 0.8581 - val_loss: 0.6478 - val_auc_2: 0.6858 - 12s/epoch - 1s/step\n",
            "Epoch 16/50\n",
            "\n",
            "Epoch 16: val_loss did not improve from 0.62959\n",
            "10/10 - 13s - loss: 0.5628 - auc_2: 0.8311 - val_loss: 0.6487 - val_auc_2: 0.6869 - 13s/epoch - 1s/step\n",
            "Epoch 17/50\n",
            "\n",
            "Epoch 17: val_loss did not improve from 0.62959\n",
            "10/10 - 12s - loss: 0.5382 - auc_2: 0.8414 - val_loss: 0.6488 - val_auc_2: 0.6883 - 12s/epoch - 1s/step\n",
            "Epoch 18/50\n",
            "\n",
            "Epoch 18: val_loss did not improve from 0.62959\n",
            "10/10 - 12s - loss: 0.5399 - auc_2: 0.8391 - val_loss: 0.6494 - val_auc_2: 0.6888 - 12s/epoch - 1s/step\n",
            "Epoch 19/50\n",
            "\n",
            "Epoch 19: val_loss did not improve from 0.62959\n",
            "10/10 - 12s - loss: 0.5556 - auc_2: 0.8378 - val_loss: 0.6493 - val_auc_2: 0.6891 - 12s/epoch - 1s/step\n",
            "Epoch 20/50\n",
            "\n",
            "Epoch 20: val_loss did not improve from 0.62959\n",
            "10/10 - 13s - loss: 0.5436 - auc_2: 0.8344 - val_loss: 0.6492 - val_auc_2: 0.6888 - 13s/epoch - 1s/step\n",
            "Epoch 21/50\n",
            "\n",
            "Epoch 21: val_loss did not improve from 0.62959\n",
            "10/10 - 12s - loss: 0.5609 - auc_2: 0.8330 - val_loss: 0.6495 - val_auc_2: 0.6888 - 12s/epoch - 1s/step\n",
            "Epoch 21: early stopping\n"
          ]
        }
      ],
      "source": [
        "# training the model\n",
        "\n",
        "# Before proceeding with training again, lets reset our train and valgen so that they start with sample #0\n",
        "trainGen.reset()\n",
        "valGen.reset()\n",
        "\n",
        "es_tune = EarlyStopping(monitor='val_loss',  \n",
        "                   mode='min',  \n",
        "                   patience=20,  \n",
        "                   verbose=1  \n",
        "                   )\n",
        "\n",
        "mc_tune = ModelCheckpoint('/content/drive/MyDrive/House Interior Prediction/fine_tuned_house.h5', \n",
        "                    monitor='val_loss', \n",
        "                    mode='min', \n",
        "                    verbose=1, \n",
        "                    save_best_only=True)\n",
        "\n",
        "hist = model_fine_tuned.fit(\n",
        "\tx=trainGen,\n",
        "\tsteps_per_epoch=totalTrain // BATCH_SIZE,\n",
        "\tvalidation_data=valGen,\n",
        "\tepochs=50,\n",
        " \tverbose=2,\n",
        "  \tcallbacks=[es_tune, mc_tune]\n",
        "  )"
      ]
    },
    {
      "cell_type": "code",
      "execution_count": null,
      "metadata": {
        "colab": {
          "base_uri": "https://localhost:8080/",
          "height": 299
        },
        "id": "br8qjCTDXfIH",
        "outputId": "2c296786-3ffd-495b-e798-6c1b123216b9"
      },
      "outputs": [
        {
          "output_type": "display_data",
          "data": {
            "text/plain": [
              "<Figure size 432x288 with 1 Axes>"
            ],
            "image/png": "[encoded data removed]"
          },
          "metadata": {}
        }
      ],
      "source": [
        "plot_hist(hist, metric=\"auc\")"
      ]
    },
    {
      "cell_type": "code",
      "execution_count": null,
      "metadata": {
        "colab": {
          "base_uri": "https://localhost:8080/",
          "height": 299
        },
        "id": "rNhAi2jdXfIH",
        "outputId": "e683252c-63e9-49f9-adc1-7d1a50572242"
      },
      "outputs": [
        {
          "output_type": "display_data",
          "data": {
            "text/plain": [
              "<Figure size 432x288 with 1 Axes>"
            ],
            "image/png": "[encoded data removed]"
          },
          "metadata": {}
        }
      ],
      "source": [
        "plot_hist(hist, metric=\"loss\")"
      ]
    },
    {
      "cell_type": "markdown",
      "metadata": {
        "id": "EIfwZ3dvXfIH"
      },
      "source": [
        "Looking at the loss curve, it seems fine tuning did not add any further improvements as one would have hoped. In fact, the validation loss is quite stable. Same is true for AUC."
      ]
    },
    {
      "cell_type": "markdown",
      "metadata": {
        "id": "8aa1lB0bXfIH"
      },
      "source": [
        "## Testing"
      ]
    },
    {
      "cell_type": "code",
      "execution_count": null,
      "metadata": {
        "colab": {
          "base_uri": "https://localhost:8080/"
        },
        "id": "nAqvWcdCXfIH",
        "outputId": "c612880c-20c3-4aa5-e791-10a750bda9b7"
      },
      "outputs": [
        {
          "output_type": "stream",
          "name": "stdout",
          "text": [
            "2/2 [==============================] - 1s 68ms/step\n"
          ]
        },
        {
          "output_type": "execute_result",
          "data": {
            "text/plain": [
              "46"
            ]
          },
          "metadata": {},
          "execution_count": 46
        }
      ],
      "source": [
        "testGen.reset()\n",
        "\n",
        "predIdxs = model_fine_tuned.predict(x=testGen, \n",
        "                                    steps=(totalTest // BATCH_SIZE) + 1\n",
        "                                    )\n",
        "\n",
        "predIdxs = np.argmax(predIdxs, axis = 1)\n",
        "len(predIdxs)"
      ]
    },
    {
      "cell_type": "code",
      "execution_count": null,
      "metadata": {
        "colab": {
          "base_uri": "https://localhost:8080/"
        },
        "id": "4ytTSyObXfIH",
        "outputId": "bb8c0a42-fd2b-41a5-d31f-5c4527093365"
      },
      "outputs": [
        {
          "output_type": "stream",
          "name": "stdout",
          "text": [
            "              precision    recall  f1-score   support\n",
            "\n",
            "           M       0.63      0.67      0.65        18\n",
            "           O       0.78      0.75      0.76        28\n",
            "\n",
            "    accuracy                           0.72        46\n",
            "   macro avg       0.70      0.71      0.71        46\n",
            "weighted avg       0.72      0.72      0.72        46\n",
            "\n"
          ]
        }
      ],
      "source": [
        "print(classification_report(testGen.classes, predIdxs,\n",
        "\ttarget_names=testGen.class_indices.keys()))"
      ]
    },
    {
      "cell_type": "markdown",
      "metadata": {
        "id": "rKOkAzEdXfIH"
      },
      "source": [
        "Observation: Model is slightly better at identifying old houses (with high recall value) compared to modern houses.\n",
        "\n",
        "In other words, of all the actual old houses, our model predicted 82% of them."
      ]
    },
    {
      "cell_type": "code",
      "execution_count": null,
      "metadata": {
        "id": "mobG6eKXXfIH"
      },
      "outputs": [],
      "source": [
        "cm = confusion_matrix(testGen.classes, predIdxs)"
      ]
    },
    {
      "cell_type": "code",
      "execution_count": null,
      "metadata": {
        "colab": {
          "base_uri": "https://localhost:8080/"
        },
        "id": "pmH-PhwBXfIH",
        "outputId": "878609e7-b663-4f51-c3e0-4d12be82d7a3"
      },
      "outputs": [
        {
          "output_type": "stream",
          "name": "stdout",
          "text": [
            "dict_keys(['O', 'M'])\n",
            "dict_values([28, 18])\n"
          ]
        }
      ],
      "source": [
        "print(Counter(testY).keys()) # equals to list(set(words))\n",
        "print(Counter(testY).values()) # counts the elements' frequency"
      ]
    },
    {
      "cell_type": "code",
      "execution_count": null,
      "metadata": {
        "colab": {
          "base_uri": "https://localhost:8080/",
          "height": 299
        },
        "id": "eSD4Rnd7XfII",
        "outputId": "4abc544a-b179-49d4-af47-d4fb27d6642c"
      },
      "outputs": [
        {
          "output_type": "stream",
          "name": "stdout",
          "text": [
            "{'M': 0, 'O': 1}\n"
          ]
        },
        {
          "output_type": "display_data",
          "data": {
            "text/plain": [
              "<Figure size 432x288 with 2 Axes>"
            ],
            "image/png": "[encoded data removed]"
          },
          "metadata": {}
        }
      ],
      "source": [
        "print(testGen.class_indices)\n",
        "\n",
        "heatmap = sns.heatmap(cm, annot=True)\n",
        "\n",
        "plt.xlabel(\"Predicted\") \n",
        "plt.ylabel(\"Actual\")\n",
        "plt.show()"
      ]
    },
    {
      "cell_type": "markdown",
      "metadata": {
        "id": "s9Ar_h6JXfII"
      },
      "source": [
        "We were able to correctly predict one more image from each class (How? Look at the increase in the instances on the diagonal compared to previous heat map)."
      ]
    }
  ],
  "metadata": {
    "interpreter": {
      "hash": "41fef1be749fab50c93cd8f4ceb536b267c9425684efed15da8aa3d046b9637d"
    },
    "kernelspec": {
      "display_name": "Python 3.9.5 64-bit ('e2eproject': venv)",
      "name": "python3"
    },
    "language_info": {
      "codemirror_mode": {
        "name": "ipython",
        "version": 3
      },
      "file_extension": ".py",
      "mimetype": "text/x-python",
      "name": "python",
      "nbconvert_exporter": "python",
      "pygments_lexer": "ipython3",
      "version": "3.9.5"
    },
    "orig_nbformat": 4,
    "colab": {
      "provenance": []
    },
    "accelerator": "GPU",
    "gpuClass": "standard"
  },
  "nbformat": 4,
  "nbformat_minor": 0
}